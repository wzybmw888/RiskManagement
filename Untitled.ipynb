{
 "cells": [
  {
   "cell_type": "code",
   "execution_count": 13,
   "id": "61a8efd4-2478-4fc1-b27c-658e7f48399f",
   "metadata": {},
   "outputs": [],
   "source": [
    "import time\n",
    "\n",
    "from vnpy.trader.utility import load_json\n",
    "from vnpy_scripttrader import init_cli_trading\n",
    "from vnpy_ctp import CtpGateway\n",
    "import pandas as pd"
   ]
  },
  {
   "cell_type": "code",
   "execution_count": 2,
   "id": "ad41e795-a529-496e-b6f1-42ed6dec6f83",
   "metadata": {},
   "outputs": [
    {
     "name": "stdout",
     "output_type": "stream",
     "text": [
      "没有配置要使用的数据服务，请修改全局配置中的datafeed相关内容\n",
      "2023-09-19 13:37:33.295379\t交易服务器连接成功\n",
      "2023-09-19 13:37:33.295379\t行情服务器连接成功\n",
      "2023-09-19 13:37:33.321491\t行情服务器登录成功\n",
      "2023-09-19 13:37:33.354795\t交易服务器授权验证成功\n",
      "2023-09-19 13:37:33.470145\t交易服务器登录成功\n",
      "2023-09-19 13:37:36.763502\t结算信息确认成功\n",
      "2023-09-19 13:37:53.623851\t合约信息查询成功\n"
     ]
    }
   ],
   "source": [
    "setting_1 = load_json(\"connect_ctp.json\")\n",
    "engine = init_cli_trading([CtpGateway])\n",
    "engine.connect_gateway(setting_1, \"CTP\")\n",
    "time.sleep(20)"
   ]
  },
  {
   "cell_type": "code",
   "execution_count": 38,
   "id": "c052ed35-b59d-4ff0-b3b2-b9410c04e490",
   "metadata": {},
   "outputs": [],
   "source": [
    "try:\n",
    "    df_account = engine.get_account(vt_accountid=\"CTP.218042\", use_df=True)\n",
    "    df_position = engine.get_all_positions(use_df=True)\n",
    "    # 删除\"volume\"列值为0的行\n",
    "    df_position = df_position.drop(df_position[df_position['volume'] == 0].index)\n",
    "    vt_symbols = df_position[\"vt_symbol\"].values\n",
    "    engine.subscribe(vt_symbols=vt_symbols)\n",
    "    df_ticks = engine.get_ticks(vt_symbols=vt_symbols, use_df=True)\n",
    "\n",
    "except Exception as e:\n",
    "    print(e)"
   ]
  },
  {
   "cell_type": "code",
   "execution_count": 39,
   "id": "a6a4a410-e561-4da0-b740-18c6626fda10",
   "metadata": {},
   "outputs": [
    {
     "data": {
      "text/plain": [
       "Index(['gateway_name', 'symbol', 'exchange', 'direction', 'volume', 'frozen',\n",
       "       'price', 'pnl', 'yd_volume', 'vt_positionid', 'gateway_name', 'symbol',\n",
       "       'exchange', 'datetime', 'name', 'volume', 'turnover', 'open_interest',\n",
       "       'last_price', 'last_volume', 'limit_up', 'limit_down', 'open_price',\n",
       "       'high_price', 'low_price', 'pre_close', 'bid_price_1', 'bid_price_2',\n",
       "       'bid_price_3', 'bid_price_4', 'bid_price_5', 'ask_price_1',\n",
       "       'ask_price_2', 'ask_price_3', 'ask_price_4', 'ask_price_5',\n",
       "       'bid_volume_1', 'bid_volume_2', 'bid_volume_3', 'bid_volume_4',\n",
       "       'bid_volume_5', 'ask_volume_1', 'ask_volume_2', 'ask_volume_3',\n",
       "       'ask_volume_4', 'ask_volume_5', 'localtime', 'pnl_percent'],\n",
       "      dtype='object')"
      ]
     },
     "execution_count": 39,
     "metadata": {},
     "output_type": "execute_result"
    }
   ],
   "source": [
    "merged_df.columns"
   ]
  },
  {
   "cell_type": "code",
   "execution_count": 40,
   "id": "1b432c47-0e4c-4651-a844-238204f8db82",
   "metadata": {},
   "outputs": [
    {
     "name": "stdout",
     "output_type": "stream",
     "text": [
      "['rb2401.SHFE' 'a2311.DCE']\n",
      "**************************************************\n",
      "[-0.00311203 -0.00371201]\n",
      "**************************************************\n"
     ]
    }
   ],
   "source": [
    "if len(df_position)>0 and len(df_ticks)>0 and len(df_account)>0:\n",
    "    merged_df = pd.concat([df_position.set_index('vt_symbol'), df_ticks.set_index('vt_symbol')], axis=1)\n",
    "    # 计算pnl_percent\n",
    "    merged_df[\"pnl_percent\"] = (merged_df[\"last_price\"] - merged_df[\"price\"]) / merged_df[\"price\"]\n",
    "    # 获取资金\n",
    "    balance = df_account[\"balance\"].values\n",
    "    # 可用\n",
    "    available = df_account[\"available\"].values\n",
    "    # 合约品种\n",
    "    contract = merged_df.index.values\n",
    "    # 利润\n",
    "    profit = merged_df[\"pnl\"].values\n",
    "    pnl_percent = merged_df[\"pnl_percent\"].values\n",
    "    print(contract)\n",
    "    print(\"*\" * 50)\n",
    "    print(pnl_percent)\n",
    "    print(\"*\" * 50)"
   ]
  },
  {
   "cell_type": "code",
   "execution_count": null,
   "id": "2054b4ce-b32d-402e-a2b8-9cc2fcef85d1",
   "metadata": {},
   "outputs": [],
   "source": []
  }
 ],
 "metadata": {
  "kernelspec": {
   "display_name": "Python 3 (ipykernel)",
   "language": "python",
   "name": "python3"
  },
  "language_info": {
   "codemirror_mode": {
    "name": "ipython",
    "version": 3
   },
   "file_extension": ".py",
   "mimetype": "text/x-python",
   "name": "python",
   "nbconvert_exporter": "python",
   "pygments_lexer": "ipython3",
   "version": "3.10.13"
  }
 },
 "nbformat": 4,
 "nbformat_minor": 5
}
