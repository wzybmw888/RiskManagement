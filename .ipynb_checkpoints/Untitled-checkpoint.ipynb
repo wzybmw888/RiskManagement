{
 "cells": [
  {
   "cell_type": "code",
   "execution_count": 37,
   "id": "ec2da159-294b-4494-b068-ab1d2cbca1b5",
   "metadata": {},
   "outputs": [],
   "source": [
    "from vnpy_scripttrader import init_cli_trading\n",
    "from vnpy_ctp import CtpGateway\n",
    "import time\n",
    "engine = init_cli_trading([CtpGateway])"
   ]
  },
  {
   "cell_type": "code",
   "execution_count": 38,
   "id": "eb3d0598-9edd-4f42-b464-ba4781ab7a2b",
   "metadata": {},
   "outputs": [
    {
     "name": "stdout",
     "output_type": "stream",
     "text": [
      "2023-09-19 11:09:27.411221\t行情服务器连接成功\n",
      "2023-09-19 11:09:27.413219\t交易服务器连接成功\n",
      "2023-09-19 11:09:27.434420\t行情服务器登录成功\n",
      "2023-09-19 11:09:27.471350\t交易服务器授权验证成功\n",
      "2023-09-19 11:09:27.591823\t交易服务器登录成功\n",
      "2023-09-19 11:09:27.732728\t结算信息确认成功\n",
      "2023-09-19 11:09:48.452889\t合约信息查询成功\n"
     ]
    }
   ],
   "source": [
    "from vnpy.trader.utility import load_json\n",
    "setting = load_json(\"connect_ctp.json\")\n",
    "engine.connect_gateway(setting, \"CTP\")\n",
    "time.sleep(20)"
   ]
  }
 ],
 "metadata": {
  "kernelspec": {
   "display_name": "Python 3 (ipykernel)",
   "language": "python",
   "name": "python3"
  },
  "language_info": {
   "codemirror_mode": {
    "name": "ipython",
    "version": 3
   },
   "file_extension": ".py",
   "mimetype": "text/x-python",
   "name": "python",
   "nbconvert_exporter": "python",
   "pygments_lexer": "ipython3",
   "version": "3.10.13"
  }
 },
 "nbformat": 4,
 "nbformat_minor": 5
}
